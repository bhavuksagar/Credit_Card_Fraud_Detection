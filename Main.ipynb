{
 "cells": [
  {
   "cell_type": "code",
   "execution_count": 1,
   "metadata": {},
   "outputs": [
    {
     "name": "stderr",
     "output_type": "stream",
     "text": [
      "Using TensorFlow backend.\n"
     ]
    }
   ],
   "source": [
    "import pandas as pd\n",
    "from sklearn.model_selection import train_test_split\n",
    "from imblearn.over_sampling import SMOTE\n",
    "from keras.models import Sequential\n",
    "from keras.layers import Dense,Dropout\n",
    "import matplotlib.pyplot as plt\n",
    "import seaborn as sn\n",
    "from collections import Counter\n",
    "from sklearn.preprocessing import StandardScaler"
   ]
  },
  {
   "cell_type": "code",
   "execution_count": 2,
   "metadata": {},
   "outputs": [],
   "source": [
    "df=pd.read_csv(\"train.csv\")"
   ]
  },
  {
   "cell_type": "markdown",
   "metadata": {},
   "source": [
    "# EDA"
   ]
  },
  {
   "cell_type": "code",
   "execution_count": 3,
   "metadata": {},
   "outputs": [
    {
     "data": {
      "text/html": [
       "<div>\n",
       "<style scoped>\n",
       "    .dataframe tbody tr th:only-of-type {\n",
       "        vertical-align: middle;\n",
       "    }\n",
       "\n",
       "    .dataframe tbody tr th {\n",
       "        vertical-align: top;\n",
       "    }\n",
       "\n",
       "    .dataframe thead th {\n",
       "        text-align: right;\n",
       "    }\n",
       "</style>\n",
       "<table border=\"1\" class=\"dataframe\">\n",
       "  <thead>\n",
       "    <tr style=\"text-align: right;\">\n",
       "      <th></th>\n",
       "      <th>Index</th>\n",
       "      <th>V1</th>\n",
       "      <th>V2</th>\n",
       "      <th>V3</th>\n",
       "      <th>V4</th>\n",
       "      <th>V5</th>\n",
       "      <th>V6</th>\n",
       "      <th>V7</th>\n",
       "      <th>V8</th>\n",
       "      <th>V9</th>\n",
       "      <th>...</th>\n",
       "      <th>V21</th>\n",
       "      <th>V22</th>\n",
       "      <th>V23</th>\n",
       "      <th>V24</th>\n",
       "      <th>V25</th>\n",
       "      <th>V26</th>\n",
       "      <th>V27</th>\n",
       "      <th>V28</th>\n",
       "      <th>Amount</th>\n",
       "      <th>Class</th>\n",
       "    </tr>\n",
       "  </thead>\n",
       "  <tbody>\n",
       "    <tr>\n",
       "      <td>0</td>\n",
       "      <td>0</td>\n",
       "      <td>2.245295</td>\n",
       "      <td>-1.160960</td>\n",
       "      <td>-1.966682</td>\n",
       "      <td>-1.430190</td>\n",
       "      <td>-0.607246</td>\n",
       "      <td>-1.508696</td>\n",
       "      <td>-0.074415</td>\n",
       "      <td>-0.655096</td>\n",
       "      <td>-1.970141</td>\n",
       "      <td>...</td>\n",
       "      <td>0.010490</td>\n",
       "      <td>0.521714</td>\n",
       "      <td>-0.064971</td>\n",
       "      <td>0.048849</td>\n",
       "      <td>0.383290</td>\n",
       "      <td>0.103970</td>\n",
       "      <td>-0.047350</td>\n",
       "      <td>-0.064800</td>\n",
       "      <td>74.75</td>\n",
       "      <td>0</td>\n",
       "    </tr>\n",
       "    <tr>\n",
       "      <td>1</td>\n",
       "      <td>1</td>\n",
       "      <td>1.278609</td>\n",
       "      <td>0.102574</td>\n",
       "      <td>0.512079</td>\n",
       "      <td>0.003930</td>\n",
       "      <td>-0.723474</td>\n",
       "      <td>-1.334105</td>\n",
       "      <td>0.029958</td>\n",
       "      <td>-0.296595</td>\n",
       "      <td>0.128119</td>\n",
       "      <td>...</td>\n",
       "      <td>-0.081470</td>\n",
       "      <td>-0.182506</td>\n",
       "      <td>0.078986</td>\n",
       "      <td>0.789993</td>\n",
       "      <td>0.219794</td>\n",
       "      <td>0.938359</td>\n",
       "      <td>-0.078720</td>\n",
       "      <td>0.008119</td>\n",
       "      <td>1.38</td>\n",
       "      <td>0</td>\n",
       "    </tr>\n",
       "    <tr>\n",
       "      <td>2</td>\n",
       "      <td>2</td>\n",
       "      <td>1.466457</td>\n",
       "      <td>0.026088</td>\n",
       "      <td>-0.499298</td>\n",
       "      <td>-0.674372</td>\n",
       "      <td>-0.144883</td>\n",
       "      <td>-1.178075</td>\n",
       "      <td>0.058089</td>\n",
       "      <td>-0.420145</td>\n",
       "      <td>-1.359651</td>\n",
       "      <td>...</td>\n",
       "      <td>-0.234087</td>\n",
       "      <td>-0.710542</td>\n",
       "      <td>-0.001242</td>\n",
       "      <td>-0.174713</td>\n",
       "      <td>0.533719</td>\n",
       "      <td>-0.454779</td>\n",
       "      <td>0.001524</td>\n",
       "      <td>0.030935</td>\n",
       "      <td>10.95</td>\n",
       "      <td>0</td>\n",
       "    </tr>\n",
       "    <tr>\n",
       "      <td>3</td>\n",
       "      <td>3</td>\n",
       "      <td>-0.922137</td>\n",
       "      <td>-0.371579</td>\n",
       "      <td>2.132018</td>\n",
       "      <td>-0.796997</td>\n",
       "      <td>0.324175</td>\n",
       "      <td>-1.162006</td>\n",
       "      <td>0.277208</td>\n",
       "      <td>-0.249586</td>\n",
       "      <td>-0.775648</td>\n",
       "      <td>...</td>\n",
       "      <td>-0.302654</td>\n",
       "      <td>-0.246899</td>\n",
       "      <td>-0.045745</td>\n",
       "      <td>0.677110</td>\n",
       "      <td>0.016109</td>\n",
       "      <td>-0.734220</td>\n",
       "      <td>-0.034480</td>\n",
       "      <td>-0.064786</td>\n",
       "      <td>8.04</td>\n",
       "      <td>0</td>\n",
       "    </tr>\n",
       "    <tr>\n",
       "      <td>4</td>\n",
       "      <td>4</td>\n",
       "      <td>-1.166525</td>\n",
       "      <td>0.255439</td>\n",
       "      <td>2.108464</td>\n",
       "      <td>0.135019</td>\n",
       "      <td>-0.072979</td>\n",
       "      <td>0.910821</td>\n",
       "      <td>0.755918</td>\n",
       "      <td>0.355528</td>\n",
       "      <td>-0.422820</td>\n",
       "      <td>...</td>\n",
       "      <td>0.136470</td>\n",
       "      <td>0.017496</td>\n",
       "      <td>0.121017</td>\n",
       "      <td>0.636266</td>\n",
       "      <td>0.492943</td>\n",
       "      <td>-0.750242</td>\n",
       "      <td>0.029124</td>\n",
       "      <td>0.091303</td>\n",
       "      <td>175.00</td>\n",
       "      <td>0</td>\n",
       "    </tr>\n",
       "  </tbody>\n",
       "</table>\n",
       "<p>5 rows × 31 columns</p>\n",
       "</div>"
      ],
      "text/plain": [
       "   Index        V1        V2        V3        V4        V5        V6  \\\n",
       "0      0  2.245295 -1.160960 -1.966682 -1.430190 -0.607246 -1.508696   \n",
       "1      1  1.278609  0.102574  0.512079  0.003930 -0.723474 -1.334105   \n",
       "2      2  1.466457  0.026088 -0.499298 -0.674372 -0.144883 -1.178075   \n",
       "3      3 -0.922137 -0.371579  2.132018 -0.796997  0.324175 -1.162006   \n",
       "4      4 -1.166525  0.255439  2.108464  0.135019 -0.072979  0.910821   \n",
       "\n",
       "         V7        V8        V9  ...       V21       V22       V23       V24  \\\n",
       "0 -0.074415 -0.655096 -1.970141  ...  0.010490  0.521714 -0.064971  0.048849   \n",
       "1  0.029958 -0.296595  0.128119  ... -0.081470 -0.182506  0.078986  0.789993   \n",
       "2  0.058089 -0.420145 -1.359651  ... -0.234087 -0.710542 -0.001242 -0.174713   \n",
       "3  0.277208 -0.249586 -0.775648  ... -0.302654 -0.246899 -0.045745  0.677110   \n",
       "4  0.755918  0.355528 -0.422820  ...  0.136470  0.017496  0.121017  0.636266   \n",
       "\n",
       "        V25       V26       V27       V28  Amount  Class  \n",
       "0  0.383290  0.103970 -0.047350 -0.064800   74.75      0  \n",
       "1  0.219794  0.938359 -0.078720  0.008119    1.38      0  \n",
       "2  0.533719 -0.454779  0.001524  0.030935   10.95      0  \n",
       "3  0.016109 -0.734220 -0.034480 -0.064786    8.04      0  \n",
       "4  0.492943 -0.750242  0.029124  0.091303  175.00      0  \n",
       "\n",
       "[5 rows x 31 columns]"
      ]
     },
     "execution_count": 3,
     "metadata": {},
     "output_type": "execute_result"
    }
   ],
   "source": [
    "df.head()"
   ]
  },
  {
   "cell_type": "code",
   "execution_count": 4,
   "metadata": {},
   "outputs": [
    {
     "data": {
      "text/html": [
       "<div>\n",
       "<style scoped>\n",
       "    .dataframe tbody tr th:only-of-type {\n",
       "        vertical-align: middle;\n",
       "    }\n",
       "\n",
       "    .dataframe tbody tr th {\n",
       "        vertical-align: top;\n",
       "    }\n",
       "\n",
       "    .dataframe thead th {\n",
       "        text-align: right;\n",
       "    }\n",
       "</style>\n",
       "<table border=\"1\" class=\"dataframe\">\n",
       "  <thead>\n",
       "    <tr style=\"text-align: right;\">\n",
       "      <th></th>\n",
       "      <th>Index</th>\n",
       "      <th>V1</th>\n",
       "      <th>V2</th>\n",
       "      <th>V3</th>\n",
       "      <th>V4</th>\n",
       "      <th>V5</th>\n",
       "      <th>V6</th>\n",
       "      <th>V7</th>\n",
       "      <th>V8</th>\n",
       "      <th>V9</th>\n",
       "      <th>...</th>\n",
       "      <th>V21</th>\n",
       "      <th>V22</th>\n",
       "      <th>V23</th>\n",
       "      <th>V24</th>\n",
       "      <th>V25</th>\n",
       "      <th>V26</th>\n",
       "      <th>V27</th>\n",
       "      <th>V28</th>\n",
       "      <th>Amount</th>\n",
       "      <th>Class</th>\n",
       "    </tr>\n",
       "  </thead>\n",
       "  <tbody>\n",
       "    <tr>\n",
       "      <td>count</td>\n",
       "      <td>284455.000000</td>\n",
       "      <td>284455.000000</td>\n",
       "      <td>284455.000000</td>\n",
       "      <td>284455.000000</td>\n",
       "      <td>284455.000000</td>\n",
       "      <td>284455.000000</td>\n",
       "      <td>284455.000000</td>\n",
       "      <td>284455.000000</td>\n",
       "      <td>284455.000000</td>\n",
       "      <td>284455.000000</td>\n",
       "      <td>...</td>\n",
       "      <td>284455.000000</td>\n",
       "      <td>284455.000000</td>\n",
       "      <td>284455.000000</td>\n",
       "      <td>284455.000000</td>\n",
       "      <td>284455.000000</td>\n",
       "      <td>284455.000000</td>\n",
       "      <td>284455.000000</td>\n",
       "      <td>284455.000000</td>\n",
       "      <td>284455.000000</td>\n",
       "      <td>284455.000000</td>\n",
       "    </tr>\n",
       "    <tr>\n",
       "      <td>mean</td>\n",
       "      <td>142227.000000</td>\n",
       "      <td>0.000779</td>\n",
       "      <td>-0.000811</td>\n",
       "      <td>0.001275</td>\n",
       "      <td>-0.000793</td>\n",
       "      <td>0.000592</td>\n",
       "      <td>0.000186</td>\n",
       "      <td>0.000951</td>\n",
       "      <td>-0.000270</td>\n",
       "      <td>0.000505</td>\n",
       "      <td>...</td>\n",
       "      <td>-0.000171</td>\n",
       "      <td>-0.000050</td>\n",
       "      <td>0.000027</td>\n",
       "      <td>0.000018</td>\n",
       "      <td>-0.000051</td>\n",
       "      <td>0.000028</td>\n",
       "      <td>-0.000037</td>\n",
       "      <td>-0.000028</td>\n",
       "      <td>88.359646</td>\n",
       "      <td>0.001547</td>\n",
       "    </tr>\n",
       "    <tr>\n",
       "      <td>std</td>\n",
       "      <td>82115.229749</td>\n",
       "      <td>1.956147</td>\n",
       "      <td>1.650234</td>\n",
       "      <td>1.510626</td>\n",
       "      <td>1.414216</td>\n",
       "      <td>1.378329</td>\n",
       "      <td>1.332161</td>\n",
       "      <td>1.232971</td>\n",
       "      <td>1.190897</td>\n",
       "      <td>1.097805</td>\n",
       "      <td>...</td>\n",
       "      <td>0.732765</td>\n",
       "      <td>0.725495</td>\n",
       "      <td>0.624473</td>\n",
       "      <td>0.605645</td>\n",
       "      <td>0.521274</td>\n",
       "      <td>0.482243</td>\n",
       "      <td>0.403488</td>\n",
       "      <td>0.330127</td>\n",
       "      <td>250.177771</td>\n",
       "      <td>0.039299</td>\n",
       "    </tr>\n",
       "    <tr>\n",
       "      <td>min</td>\n",
       "      <td>0.000000</td>\n",
       "      <td>-56.407510</td>\n",
       "      <td>-72.715728</td>\n",
       "      <td>-48.325589</td>\n",
       "      <td>-5.683171</td>\n",
       "      <td>-113.743307</td>\n",
       "      <td>-26.160506</td>\n",
       "      <td>-43.557242</td>\n",
       "      <td>-73.216718</td>\n",
       "      <td>-13.434066</td>\n",
       "      <td>...</td>\n",
       "      <td>-34.830382</td>\n",
       "      <td>-10.933144</td>\n",
       "      <td>-44.807735</td>\n",
       "      <td>-2.836627</td>\n",
       "      <td>-10.295397</td>\n",
       "      <td>-2.604551</td>\n",
       "      <td>-22.565679</td>\n",
       "      <td>-15.430084</td>\n",
       "      <td>0.000000</td>\n",
       "      <td>0.000000</td>\n",
       "    </tr>\n",
       "    <tr>\n",
       "      <td>25%</td>\n",
       "      <td>71113.500000</td>\n",
       "      <td>-0.920117</td>\n",
       "      <td>-0.598750</td>\n",
       "      <td>-0.889749</td>\n",
       "      <td>-0.848835</td>\n",
       "      <td>-0.691343</td>\n",
       "      <td>-0.768227</td>\n",
       "      <td>-0.553788</td>\n",
       "      <td>-0.208633</td>\n",
       "      <td>-0.642669</td>\n",
       "      <td>...</td>\n",
       "      <td>-0.228434</td>\n",
       "      <td>-0.542432</td>\n",
       "      <td>-0.161861</td>\n",
       "      <td>-0.354545</td>\n",
       "      <td>-0.317194</td>\n",
       "      <td>-0.326951</td>\n",
       "      <td>-0.070845</td>\n",
       "      <td>-0.052957</td>\n",
       "      <td>5.600000</td>\n",
       "      <td>0.000000</td>\n",
       "    </tr>\n",
       "    <tr>\n",
       "      <td>50%</td>\n",
       "      <td>142227.000000</td>\n",
       "      <td>0.018330</td>\n",
       "      <td>0.065238</td>\n",
       "      <td>0.179953</td>\n",
       "      <td>-0.020206</td>\n",
       "      <td>-0.054243</td>\n",
       "      <td>-0.274172</td>\n",
       "      <td>0.040265</td>\n",
       "      <td>0.022328</td>\n",
       "      <td>-0.051183</td>\n",
       "      <td>...</td>\n",
       "      <td>-0.029520</td>\n",
       "      <td>0.006675</td>\n",
       "      <td>-0.011192</td>\n",
       "      <td>0.040977</td>\n",
       "      <td>0.016461</td>\n",
       "      <td>-0.052077</td>\n",
       "      <td>0.001337</td>\n",
       "      <td>0.011238</td>\n",
       "      <td>22.000000</td>\n",
       "      <td>0.000000</td>\n",
       "    </tr>\n",
       "    <tr>\n",
       "      <td>75%</td>\n",
       "      <td>213340.500000</td>\n",
       "      <td>1.315693</td>\n",
       "      <td>0.803357</td>\n",
       "      <td>1.027332</td>\n",
       "      <td>0.742635</td>\n",
       "      <td>0.612015</td>\n",
       "      <td>0.398641</td>\n",
       "      <td>0.570515</td>\n",
       "      <td>0.327214</td>\n",
       "      <td>0.597346</td>\n",
       "      <td>...</td>\n",
       "      <td>0.186326</td>\n",
       "      <td>0.528481</td>\n",
       "      <td>0.147659</td>\n",
       "      <td>0.439527</td>\n",
       "      <td>0.350697</td>\n",
       "      <td>0.240929</td>\n",
       "      <td>0.091023</td>\n",
       "      <td>0.078271</td>\n",
       "      <td>77.200000</td>\n",
       "      <td>0.000000</td>\n",
       "    </tr>\n",
       "    <tr>\n",
       "      <td>max</td>\n",
       "      <td>284454.000000</td>\n",
       "      <td>2.454930</td>\n",
       "      <td>22.057729</td>\n",
       "      <td>9.382558</td>\n",
       "      <td>16.875344</td>\n",
       "      <td>34.801666</td>\n",
       "      <td>73.301626</td>\n",
       "      <td>120.589494</td>\n",
       "      <td>20.007208</td>\n",
       "      <td>15.594995</td>\n",
       "      <td>...</td>\n",
       "      <td>27.202839</td>\n",
       "      <td>10.503090</td>\n",
       "      <td>22.528412</td>\n",
       "      <td>4.584549</td>\n",
       "      <td>7.519589</td>\n",
       "      <td>3.517346</td>\n",
       "      <td>31.612198</td>\n",
       "      <td>33.847808</td>\n",
       "      <td>25691.160000</td>\n",
       "      <td>1.000000</td>\n",
       "    </tr>\n",
       "  </tbody>\n",
       "</table>\n",
       "<p>8 rows × 31 columns</p>\n",
       "</div>"
      ],
      "text/plain": [
       "               Index             V1             V2             V3  \\\n",
       "count  284455.000000  284455.000000  284455.000000  284455.000000   \n",
       "mean   142227.000000       0.000779      -0.000811       0.001275   \n",
       "std     82115.229749       1.956147       1.650234       1.510626   \n",
       "min         0.000000     -56.407510     -72.715728     -48.325589   \n",
       "25%     71113.500000      -0.920117      -0.598750      -0.889749   \n",
       "50%    142227.000000       0.018330       0.065238       0.179953   \n",
       "75%    213340.500000       1.315693       0.803357       1.027332   \n",
       "max    284454.000000       2.454930      22.057729       9.382558   \n",
       "\n",
       "                  V4             V5             V6             V7  \\\n",
       "count  284455.000000  284455.000000  284455.000000  284455.000000   \n",
       "mean       -0.000793       0.000592       0.000186       0.000951   \n",
       "std         1.414216       1.378329       1.332161       1.232971   \n",
       "min        -5.683171    -113.743307     -26.160506     -43.557242   \n",
       "25%        -0.848835      -0.691343      -0.768227      -0.553788   \n",
       "50%        -0.020206      -0.054243      -0.274172       0.040265   \n",
       "75%         0.742635       0.612015       0.398641       0.570515   \n",
       "max        16.875344      34.801666      73.301626     120.589494   \n",
       "\n",
       "                  V8             V9  ...            V21            V22  \\\n",
       "count  284455.000000  284455.000000  ...  284455.000000  284455.000000   \n",
       "mean       -0.000270       0.000505  ...      -0.000171      -0.000050   \n",
       "std         1.190897       1.097805  ...       0.732765       0.725495   \n",
       "min       -73.216718     -13.434066  ...     -34.830382     -10.933144   \n",
       "25%        -0.208633      -0.642669  ...      -0.228434      -0.542432   \n",
       "50%         0.022328      -0.051183  ...      -0.029520       0.006675   \n",
       "75%         0.327214       0.597346  ...       0.186326       0.528481   \n",
       "max        20.007208      15.594995  ...      27.202839      10.503090   \n",
       "\n",
       "                 V23            V24            V25            V26  \\\n",
       "count  284455.000000  284455.000000  284455.000000  284455.000000   \n",
       "mean        0.000027       0.000018      -0.000051       0.000028   \n",
       "std         0.624473       0.605645       0.521274       0.482243   \n",
       "min       -44.807735      -2.836627     -10.295397      -2.604551   \n",
       "25%        -0.161861      -0.354545      -0.317194      -0.326951   \n",
       "50%        -0.011192       0.040977       0.016461      -0.052077   \n",
       "75%         0.147659       0.439527       0.350697       0.240929   \n",
       "max        22.528412       4.584549       7.519589       3.517346   \n",
       "\n",
       "                 V27            V28         Amount          Class  \n",
       "count  284455.000000  284455.000000  284455.000000  284455.000000  \n",
       "mean       -0.000037      -0.000028      88.359646       0.001547  \n",
       "std         0.403488       0.330127     250.177771       0.039299  \n",
       "min       -22.565679     -15.430084       0.000000       0.000000  \n",
       "25%        -0.070845      -0.052957       5.600000       0.000000  \n",
       "50%         0.001337       0.011238      22.000000       0.000000  \n",
       "75%         0.091023       0.078271      77.200000       0.000000  \n",
       "max        31.612198      33.847808   25691.160000       1.000000  \n",
       "\n",
       "[8 rows x 31 columns]"
      ]
     },
     "execution_count": 4,
     "metadata": {},
     "output_type": "execute_result"
    }
   ],
   "source": [
    "df.describe()"
   ]
  },
  {
   "cell_type": "code",
   "execution_count": 5,
   "metadata": {},
   "outputs": [
    {
     "data": {
      "text/plain": [
       "Index     0\n",
       "V1        0\n",
       "V2        0\n",
       "V3        0\n",
       "V4        0\n",
       "V5        0\n",
       "V6        0\n",
       "V7        0\n",
       "V8        0\n",
       "V9        0\n",
       "V10       0\n",
       "V11       0\n",
       "V12       0\n",
       "V13       0\n",
       "V14       0\n",
       "V15       0\n",
       "V16       0\n",
       "V17       0\n",
       "V18       0\n",
       "V19       0\n",
       "V20       0\n",
       "V21       0\n",
       "V22       0\n",
       "V23       0\n",
       "V24       0\n",
       "V25       0\n",
       "V26       0\n",
       "V27       0\n",
       "V28       0\n",
       "Amount    0\n",
       "Class     0\n",
       "dtype: int64"
      ]
     },
     "execution_count": 5,
     "metadata": {},
     "output_type": "execute_result"
    }
   ],
   "source": [
    "df.isnull().sum()"
   ]
  },
  {
   "cell_type": "markdown",
   "metadata": {},
   "source": [
    "# Handling Imbalance Dataset problem"
   ]
  },
  {
   "cell_type": "code",
   "execution_count": 6,
   "metadata": {},
   "outputs": [
    {
     "data": {
      "text/plain": [
       "Counter({0: 284015, 1: 440})"
      ]
     },
     "execution_count": 6,
     "metadata": {},
     "output_type": "execute_result"
    }
   ],
   "source": [
    "value=Counter(df.Class)\n",
    "value"
   ]
  },
  {
   "cell_type": "code",
   "execution_count": 7,
   "metadata": {},
   "outputs": [
    {
     "data": {
      "text/plain": [
       "<BarContainer object of 2 artists>"
      ]
     },
     "execution_count": 7,
     "metadata": {},
     "output_type": "execute_result"
    },
    {
     "data": {
      "image/png": "[encoded data removed]",
      "text/plain": [
       "<Figure size 432x288 with 1 Axes>"
      ]
     },
     "metadata": {
      "needs_background": "light"
     },
     "output_type": "display_data"
    }
   ],
   "source": [
    "plt.bar(list((\"0\",\"1\")),list(value.values()))"
   ]
  },
  {
   "cell_type": "code",
   "execution_count": 8,
   "metadata": {},
   "outputs": [],
   "source": [
    "x=df.iloc[:,1:30]\n",
    "y=df.iloc[:,30]"
   ]
  },
  {
   "cell_type": "code",
   "execution_count": 9,
   "metadata": {},
   "outputs": [],
   "source": [
    "balance=SMOTE()\n",
    "x_re,y_re=balance.fit_resample(x,y)"
   ]
  },
  {
   "cell_type": "code",
   "execution_count": 10,
   "metadata": {},
   "outputs": [],
   "source": [
    "value_after=Counter(y_re)"
   ]
  },
  {
   "cell_type": "code",
   "execution_count": 11,
   "metadata": {},
   "outputs": [
    {
     "data": {
      "text/plain": [
       "<BarContainer object of 2 artists>"
      ]
     },
     "execution_count": 11,
     "metadata": {},
     "output_type": "execute_result"
    },
    {
     "data": {
      "image/png": "[encoded data removed]",
      "text/plain": [
       "<Figure size 432x288 with 1 Axes>"
      ]
     },
     "metadata": {
      "needs_background": "light"
     },
     "output_type": "display_data"
    }
   ],
   "source": [
    "plt.bar(list((\"0\",\"1\")),list(value_after.values()))"
   ]
  },
  {
   "cell_type": "code",
   "execution_count": 14,
   "metadata": {},
   "outputs": [
    {
     "data": {
      "text/plain": [
       "<matplotlib.axes._subplots.AxesSubplot at 0x7f7fa077eb10>"
      ]
     },
     "execution_count": 14,
     "metadata": {},
     "output_type": "execute_result"
    },
    {
     "data": {
      "image/png": "[encoded data removed]",
      "text/plain": [
       "<Figure size 1440x720 with 2 Axes>"
      ]
     },
     "metadata": {
      "needs_background": "light"
     },
     "output_type": "display_data"
    }
   ],
   "source": [
    "plt.figure(figsize=(20,10))\n",
    "sn.heatmap(df.corr(),cmap=\"viridis\")"
   ]
  },
  {
   "cell_type": "markdown",
   "metadata": {},
   "source": [
    "# Spliting Data for training and test"
   ]
  },
  {
   "cell_type": "code",
   "execution_count": 76,
   "metadata": {},
   "outputs": [],
   "source": [
    "x_train,x_test,y_train,y_test=train_test_split(x_re,y_re,random_state=0)"
   ]
  },
  {
   "cell_type": "code",
   "execution_count": 77,
   "metadata": {},
   "outputs": [],
   "source": [
    "#scaling the values\n",
    "scale=StandardScaler()\n",
    "x_train_scale=scale.fit_transform(x_train)\n",
    "x_test_scale=scale.transform(x_test)"
   ]
  },
  {
   "cell_type": "markdown",
   "metadata": {},
   "source": [
    "# Creating Model "
   ]
  },
  {
   "cell_type": "code",
   "execution_count": 78,
   "metadata": {},
   "outputs": [],
   "source": [
    "model=Sequential()\n",
    "model.add(Dense(30,activation=\"relu\",input_dim=29))\n",
    "model.add(Dense(50,activation=\"relu\"))\n",
    "model.add(Dropout(.25))\n",
    "model.add(Dense(1,activation=\"sigmoid\"))"
   ]
  },
  {
   "cell_type": "code",
   "execution_count": 79,
   "metadata": {},
   "outputs": [],
   "source": [
    "model.compile(loss=\"binary_crossentropy\",optimizer='adam',metrics=[\"accuracy\"])"
   ]
  },
  {
   "cell_type": "code",
   "execution_count": 80,
   "metadata": {},
   "outputs": [
    {
     "name": "stdout",
     "output_type": "stream",
     "text": [
      "Train on 426022 samples, validate on 142008 samples\n",
      "Epoch 1/10\n",
      "426022/426022 [==============================] - 19s 44us/step - loss: 0.0505 - accuracy: 0.9816 - val_loss: 0.0153 - val_accuracy: 0.9960\n",
      "Epoch 2/10\n",
      "426022/426022 [==============================] - 19s 44us/step - loss: 0.0121 - accuracy: 0.9966 - val_loss: 0.0079 - val_accuracy: 0.9979\n",
      "Epoch 3/10\n",
      "426022/426022 [==============================] - 19s 45us/step - loss: 0.0077 - accuracy: 0.9979 - val_loss: 0.0056 - val_accuracy: 0.9991\n",
      "Epoch 4/10\n",
      "426022/426022 [==============================] - 19s 44us/step - loss: 0.0059 - accuracy: 0.9984 - val_loss: 0.0044 - val_accuracy: 0.9989\n",
      "Epoch 5/10\n",
      "426022/426022 [==============================] - 19s 46us/step - loss: 0.0051 - accuracy: 0.9987 - val_loss: 0.0097 - val_accuracy: 0.9970\n",
      "Epoch 6/10\n",
      "426022/426022 [==============================] - 22s 52us/step - loss: 0.0045 - accuracy: 0.9988 - val_loss: 0.0031 - val_accuracy: 0.9993\n",
      "Epoch 7/10\n",
      "426022/426022 [==============================] - 19s 45us/step - loss: 0.0038 - accuracy: 0.9990 - val_loss: 0.0050 - val_accuracy: 0.9984\n",
      "Epoch 8/10\n",
      "426022/426022 [==============================] - 19s 44us/step - loss: 0.0036 - accuracy: 0.9991 - val_loss: 0.0028 - val_accuracy: 0.9994\n",
      "Epoch 9/10\n",
      "426022/426022 [==============================] - 19s 44us/step - loss: 0.0035 - accuracy: 0.9991 - val_loss: 0.0030 - val_accuracy: 0.9991\n",
      "Epoch 10/10\n",
      "426022/426022 [==============================] - 19s 45us/step - loss: 0.0031 - accuracy: 0.9992 - val_loss: 0.0027 - val_accuracy: 0.9993\n"
     ]
    }
   ],
   "source": [
    "history=model.fit(x_train_scale,y_train,validation_data=(x_test_scale,y_test),epochs=10,batch_size=50)"
   ]
  },
  {
   "cell_type": "markdown",
   "metadata": {},
   "source": [
    "# Model Evaluation"
   ]
  },
  {
   "cell_type": "code",
   "execution_count": 81,
   "metadata": {},
   "outputs": [
    {
     "data": {
      "image/png": "[encoded data removed]",
      "text/plain": [
       "<Figure size 432x288 with 1 Axes>"
      ]
     },
     "metadata": {
      "needs_background": "light"
     },
     "output_type": "display_data"
    },
    {
     "data": {
      "image/png": "[encoded data removed]",
      "text/plain": [
       "<Figure size 432x288 with 1 Axes>"
      ]
     },
     "metadata": {
      "needs_background": "light"
     },
     "output_type": "display_data"
    }
   ],
   "source": [
    "plt.plot(history.history['accuracy'])\n",
    "plt.plot(history.history['val_accuracy'])\n",
    "plt.title('model accuracy')\n",
    "plt.ylabel('accuracy')\n",
    "plt.xlabel('epoch')\n",
    "plt.legend(['train', 'test'], loc='upper left')\n",
    "plt.show()\n",
    "# summarize history for loss\n",
    "plt.plot(history.history['loss'])\n",
    "plt.plot(history.history['val_loss'])\n",
    "plt.title('model loss')\n",
    "plt.ylabel('loss')\n",
    "plt.xlabel('epoch')\n",
    "plt.legend(['train', 'test'], loc='upper left')\n",
    "plt.show()"
   ]
  },
  {
   "cell_type": "code",
   "execution_count": null,
   "metadata": {},
   "outputs": [],
   "source": []
  }
 ],
 "metadata": {
  "kernelspec": {
   "display_name": "Python 3",
   "language": "python",
   "name": "python3"
  },
  "language_info": {
   "codemirror_mode": {
    "name": "ipython",
    "version": 3
   },
   "file_extension": ".py",
   "mimetype": "text/x-python",
   "name": "python",
   "nbconvert_exporter": "python",
   "pygments_lexer": "ipython3",
   "version": "3.7.4"
  }
 },
 "nbformat": 4,
 "nbformat_minor": 2
}
